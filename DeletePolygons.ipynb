{
 "cells": [
  {
   "cell_type": "code",
   "execution_count": 5,
   "metadata": {},
   "outputs": [],
   "source": [
    "#code to delete data\n",
    "import requests\n",
    "\n",
    "polygons = requests.get('http://api.agromonitoring.com/agro/1.0/polygons?appid=92746ad71c2ebfbb81d42d2ed6d152ff')"
   ]
  },
  {
   "cell_type": "code",
   "execution_count": 6,
   "metadata": {},
   "outputs": [
    {
     "output_type": "stream",
     "name": "stdout",
     "text": [
      "<Response [204]>\n",
      "<Response [204]>\n",
      "<Response [204]>\n",
      "<Response [204]>\n"
     ]
    }
   ],
   "source": [
    "import json\n",
    "\n",
    "json_response = json.loads(polygons.content)\n",
    "\n",
    "for json in json_response:\n",
    "    \n",
    "    poly_id = json['id']\n",
    "    \n",
    "    res = requests.delete('http://api.agromonitoring.com/agro/1.0/polygons/' + poly_id + '?appid=92746ad71c2ebfbb81d42d2ed6d152ff')\n",
    "    \n",
    "    print(res)\n",
    "    "
   ]
  },
  {
   "cell_type": "code",
   "execution_count": null,
   "metadata": {},
   "outputs": [],
   "source": []
  }
 ],
 "metadata": {
  "kernelspec": {
   "display_name": "Python 3",
   "language": "python",
   "name": "python3"
  },
  "language_info": {
   "codemirror_mode": {
    "name": "ipython",
    "version": 3
   },
   "file_extension": ".py",
   "mimetype": "text/x-python",
   "name": "python",
   "nbconvert_exporter": "python",
   "pygments_lexer": "ipython3",
   "version": "3.7.1-final"
  }
 },
 "nbformat": 4,
 "nbformat_minor": 2
}